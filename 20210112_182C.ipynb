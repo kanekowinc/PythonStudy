{
 "cells": [
  {
   "cell_type": "code",
   "execution_count": 11,
   "metadata": {},
   "outputs": [
    {
     "name": "stdin",
     "output_type": "stream",
     "text": [
      " 6227384\n"
     ]
    },
    {
     "name": "stdout",
     "output_type": "stream",
     "text": [
      "6\n"
     ]
    },
    {
     "ename": "SystemExit",
     "evalue": "",
     "output_type": "error",
     "traceback": [
      "An exception has occurred, use %tb to see the full traceback.\n",
      "\u001b[1;31mSystemExit\u001b[0m\n"
     ]
    }
   ],
   "source": [
    "import sys\n",
    "N = input()\n",
    "\n",
    "N_sum = 0\n",
    "for n in N:\n",
    "    N_sum += int(n)\n",
    "\n",
    "if N_sum % 3 == 0:\n",
    "    print(0)\n",
    "    sys.exit()\n",
    "\n",
    "#求める桁数\n",
    "k = 0\n",
    "for n in reversed(N):\n",
    "    N_sum -= int(n)\n",
    "    k += 1\n",
    "    \n",
    "    #割り切れた場合\n",
    "    if N_sum % 3 == 0:\n",
    "        if k == len(N):\n",
    "            print(-1)\n",
    "        else:\n",
    "            print(k)\n",
    "        sys.exit()\n",
    "\n",
    "    \n",
    "        \n",
    "    "
   ]
  },
  {
   "cell_type": "code",
   "execution_count": 5,
   "metadata": {},
   "outputs": [
    {
     "data": {
      "text/plain": [
       "2"
      ]
     },
     "execution_count": 5,
     "metadata": {},
     "output_type": "execute_result"
    }
   ],
   "source": [
    "len(N)"
   ]
  },
  {
   "cell_type": "code",
   "execution_count": null,
   "metadata": {},
   "outputs": [],
   "source": [
    "import itertools\n",
    " \n",
    "N = input()\n",
    " \n",
    "total = sum(map(int, N))\n",
    " \n",
    "res = -1\n",
    "if total % 3 == 0:\n",
    "    res = 0\n",
    "else:\n",
    "    nums = list(range(0, len(N)))\n",
    "    for i in range(1, len(N)):\n",
    "        for com in itertools.combinations(nums, i):\n",
    "            tmp = total\n",
    "            for x in com:\n",
    "                tmp -= int(N[x])\n",
    "            if tmp % 3 == 0:\n",
    "                res = i\n",
    "        if res != -1:\n",
    "            break\n",
    "        \n",
    "print(res)"
   ]
  }
 ],
 "metadata": {
  "kernelspec": {
   "display_name": "Python 3",
   "language": "python",
   "name": "python3"
  },
  "language_info": {
   "codemirror_mode": {
    "name": "ipython",
    "version": 3
   },
   "file_extension": ".py",
   "mimetype": "text/x-python",
   "name": "python",
   "nbconvert_exporter": "python",
   "pygments_lexer": "ipython3",
   "version": "3.8.6"
  }
 },
 "nbformat": 4,
 "nbformat_minor": 4
}
