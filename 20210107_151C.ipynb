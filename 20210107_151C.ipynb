{
 "cells": [
  {
   "cell_type": "code",
   "execution_count": 31,
   "metadata": {},
   "outputs": [
    {
     "name": "stdout",
     "output_type": "stream",
     "text": [
      "2 2\n"
     ]
    }
   ],
   "source": [
    "N,M = map(int,input().split())\n",
    "p = []\n",
    "S = []\n",
    "for i in range(M):\n",
    "    p_, S_= input().split()\n",
    "    p.append(int(p_))\n",
    "    S.append(S_)\n",
    "\n",
    "#正答数\n",
    "ans = [0]*N\n",
    "#ペナルティ数\n",
    "pena = [0]*N\n",
    "\n",
    "for m in range(M):\n",
    "    if S[m] == 'AC':\n",
    "        ans[p[m]-1] = 1\n",
    "    else:\n",
    "        if ans[p[m]-1] == 0:\n",
    "            pena[p[m]-1] += 1\n",
    "    \n",
    "for n in range(N):\n",
    "    if pena[n]>0 and ans[n]==0:\n",
    "        pena[n]=0\n",
    " \n",
    "print(sum(ans), sum(pena))"
   ]
  },
  {
   "cell_type": "code",
   "execution_count": 28,
   "metadata": {},
   "outputs": [
    {
     "data": {
      "text/plain": [
       "[1, 1]"
      ]
     },
     "execution_count": 28,
     "metadata": {},
     "output_type": "execute_result"
    }
   ],
   "source": [
    "ans"
   ]
  },
  {
   "cell_type": "code",
   "execution_count": 29,
   "metadata": {},
   "outputs": [
    {
     "data": {
      "text/plain": [
       "[1, 1]"
      ]
     },
     "execution_count": 29,
     "metadata": {},
     "output_type": "execute_result"
    }
   ],
   "source": [
    "pena"
   ]
  },
  {
   "cell_type": "code",
   "execution_count": null,
   "metadata": {},
   "outputs": [],
   "source": []
  }
 ],
 "metadata": {
  "kernelspec": {
   "display_name": "Python 3",
   "language": "python",
   "name": "python3"
  },
  "language_info": {
   "codemirror_mode": {
    "name": "ipython",
    "version": 3
   },
   "file_extension": ".py",
   "mimetype": "text/x-python",
   "name": "python",
   "nbconvert_exporter": "python",
   "pygments_lexer": "ipython3",
   "version": "3.8.6"
  }
 },
 "nbformat": 4,
 "nbformat_minor": 4
}
