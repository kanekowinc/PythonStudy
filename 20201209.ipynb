{
 "cells": [
  {
   "cell_type": "code",
   "execution_count": 1,
   "metadata": {},
   "outputs": [
    {
     "name": "stdin",
     "output_type": "stream",
     "text": [
      " 6\n",
      " AC\n",
      " TLE\n",
      " AC\n",
      " AC\n",
      " WA\n",
      " TLE\n"
     ]
    },
    {
     "name": "stdout",
     "output_type": "stream",
     "text": [
      "AC x 3\n",
      "WA x 1\n",
      "TLE x 2\n",
      "RE x 0\n"
     ]
    }
   ],
   "source": [
    "N = int(input())\n",
    "\n",
    "ret = {\n",
    "    \"AC\" : 0,\n",
    "    \"WA\" : 0, \n",
    "    \"TLE\" : 0, \n",
    "    \"RE\" : 0\n",
    "}\n",
    "\n",
    "for n in range(N):\n",
    "    ret[input()] += 1\n",
    "    \n",
    "for k,v in ret.items():\n",
    "    print(f'{k} x {v}')\n"
   ]
  },
  {
   "cell_type": "code",
   "execution_count": 3,
   "metadata": {},
   "outputs": [
    {
     "name": "stdin",
     "output_type": "stream",
     "text": [
      " 1\n",
      " AC\n"
     ]
    },
    {
     "name": "stdout",
     "output_type": "stream",
     "text": [
      "AC x 1\n",
      "WA x 1\n",
      "TLE x 1\n",
      "RE x 1\n"
     ]
    }
   ],
   "source": [
    "import collections\n",
    "\n",
    "N = int(input())\n",
    "S = [input() for _ in range(N)] #list\n",
    "\n",
    "c = collections.Counter(S) #dictみたいなカウンター(？)オブジェクト？？　\n",
    "\n",
    "for label in [\"AC\", \"WA\", \"TLE\", \"RE\"]:\n",
    "    print(f'{label} x {c[label]}')\n"
   ]
  },
  {
   "cell_type": "code",
   "execution_count": null,
   "metadata": {},
   "outputs": [],
   "source": []
  }
 ],
 "metadata": {
  "kernelspec": {
   "display_name": "Python 3",
   "language": "python",
   "name": "python3"
  },
  "language_info": {
   "codemirror_mode": {
    "name": "ipython",
    "version": 3
   },
   "file_extension": ".py",
   "mimetype": "text/x-python",
   "name": "python",
   "nbconvert_exporter": "python",
   "pygments_lexer": "ipython3",
   "version": "3.8.6"
  }
 },
 "nbformat": 4,
 "nbformat_minor": 4
}
