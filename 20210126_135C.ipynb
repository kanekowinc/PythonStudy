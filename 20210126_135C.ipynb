{
 "cells": [
  {
   "cell_type": "code",
   "execution_count": 10,
   "metadata": {},
   "outputs": [
    {
     "name": "stdout",
     "output_type": "stream",
     "text": [
      "22\n"
     ]
    }
   ],
   "source": [
    "N = int(input())\n",
    "A = list(map(int,input().split()))\n",
    "B = list(map(int,input().split()))\n",
    "\n",
    "ans = 0\n",
    "for i in range(N):\n",
    "    if B[i] > A[i]:\n",
    "        ans += A[i]\n",
    "        if B[i]-A[i] > A[i+1]:\n",
    "            ans += A[i+1]\n",
    "            A[i+1] = 0\n",
    "        else:\n",
    "            ans += B[i]-A[i]\n",
    "            A[i+1] -= B[i]-A[i]\n",
    "    else:\n",
    "        ans += B[i]\n",
    "print(ans)"
   ]
  },
  {
   "cell_type": "code",
   "execution_count": null,
   "metadata": {},
   "outputs": [],
   "source": [
    "S = int(input())\n",
    "\n"
   ]
  },
  {
   "cell_type": "code",
   "execution_count": null,
   "metadata": {},
   "outputs": [],
   "source": []
  }
 ],
 "metadata": {
  "kernelspec": {
   "display_name": "Python 3",
   "language": "python",
   "name": "python3"
  },
  "language_info": {
   "codemirror_mode": {
    "name": "ipython",
    "version": 3
   },
   "file_extension": ".py",
   "mimetype": "text/x-python",
   "name": "python",
   "nbconvert_exporter": "python",
   "pygments_lexer": "ipython3",
   "version": "3.8.6"
  }
 },
 "nbformat": 4,
 "nbformat_minor": 4
}
