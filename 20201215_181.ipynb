{
 "cells": [
  {
   "cell_type": "code",
   "execution_count": null,
   "metadata": {},
   "outputs": [],
   "source": [
    "N = int(input())\n",
    "A,B = [list(map(int,input().split())) for _ in range(N)]\n",
    "\n",
    "count = 0\n",
    "for n in range(N):\n",
    "    for i in range(A[0][n],A[1][n]+1):\n",
    "        count += i\n",
    "\n",
    "print(count)"
   ]
  },
  {
   "cell_type": "code",
   "execution_count": 20,
   "metadata": {},
   "outputs": [
    {
     "name": "stdin",
     "output_type": "stream",
     "text": [
      " 3\n",
      " 11 13\n",
      " 17 47\n",
      " 359 44683\n"
     ]
    },
    {
     "name": "stdout",
     "output_type": "stream",
     "text": [
      "998244353\n"
     ]
    }
   ],
   "source": [
    "N = int(input())\n",
    "\n",
    "count = 0\n",
    "for n in range(N):\n",
    "    a,b = map(int,input().split())    \n",
    "    \n",
    "    count += (b-a+1)*(a+b)/2\n",
    "    \n",
    "print(int(count))"
   ]
  },
  {
   "cell_type": "code",
   "execution_count": null,
   "metadata": {},
   "outputs": [],
   "source": [
    "N = int(input())\n",
    "\n",
    "ret =\"No\"\n",
    "count = 0\n",
    "for n in range(N):\n",
    "    D1,D2 = map(int,input().split())\n",
    "    if D1 == D2:\n",
    "        count += 1\n",
    "    else:\n",
    "        count = 0\n",
    "    \n",
    "    if count >= 3:\n",
    "        ret = \"Yes\"\n",
    "        break\n",
    "    \n",
    "print(ret)"
   ]
  },
  {
   "cell_type": "code",
   "execution_count": null,
   "metadata": {},
   "outputs": [],
   "source": []
  }
 ],
 "metadata": {
  "kernelspec": {
   "display_name": "Python 3",
   "language": "python",
   "name": "python3"
  },
  "language_info": {
   "codemirror_mode": {
    "name": "ipython",
    "version": 3
   },
   "file_extension": ".py",
   "mimetype": "text/x-python",
   "name": "python",
   "nbconvert_exporter": "python",
   "pygments_lexer": "ipython3",
   "version": "3.8.6"
  }
 },
 "nbformat": 4,
 "nbformat_minor": 4
}
