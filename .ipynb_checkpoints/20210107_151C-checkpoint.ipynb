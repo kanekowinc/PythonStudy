{
 "cells": [
  {
   "cell_type": "code",
   "execution_count": 14,
   "metadata": {},
   "outputs": [
    {
     "name": "stdin",
     "output_type": "stream",
     "text": [
      " 5 10 7\n",
      " 8 10 3 6\n"
     ]
    },
    {
     "name": "stdout",
     "output_type": "stream",
     "text": [
      "8\n"
     ]
    }
   ],
   "source": [
    "N,K,M = map(int,input().split())\n",
    "A = list(map(int,input().split()))\n",
    "\n",
    "#目標の平均点 M\n",
    "\n",
    "#満点の点数 K\n",
    "\n",
    "#これまで取った点の合計 goukei\n",
    "goukei = 0\n",
    "for a in A:\n",
    "    goukei += a\n",
    "    \n",
    "#（合計　＋　次の点（ans）） / 科目数（N）=  目標平均点（M）\n",
    "#つまり次の点（ans） = M / N - 合計\n",
    "ans = M * N - goukei\n",
    "\n",
    "if ans > K:\n",
    "    print('-1')\n",
    "elif ans < 0:\n",
    "    print('0')\n",
    "else:\n",
    "    print(ans)\n"
   ]
  },
  {
   "cell_type": "code",
   "execution_count": 10,
   "metadata": {},
   "outputs": [
    {
     "data": {
      "text/plain": [
       "27"
      ]
     },
     "execution_count": 10,
     "metadata": {},
     "output_type": "execute_result"
    }
   ],
   "source": [
    "N,K,M = map(int,input().split())\n",
    "A = list(map(int,input().split()))\n",
    "\n",
    "goukei = 0\n",
    "for a in A:\n",
    "    goukei += a\n",
    "    \n",
    "ans = M * N - goukei\n",
    "\n",
    "if ans > K:\n",
    "    print('-1')\n",
    "elif ans < 0:\n",
    "    print('0')\n",
    "else:\n",
    "    print(ans)\n"
   ]
  },
  {
   "cell_type": "code",
   "execution_count": 11,
   "metadata": {},
   "outputs": [
    {
     "data": {
      "text/plain": [
       "8"
      ]
     },
     "execution_count": 11,
     "metadata": {},
     "output_type": "execute_result"
    }
   ],
   "source": [
    "ans"
   ]
  },
  {
   "cell_type": "code",
   "execution_count": null,
   "metadata": {},
   "outputs": [],
   "source": []
  }
 ],
 "metadata": {
  "kernelspec": {
   "display_name": "Python 3",
   "language": "python",
   "name": "python3"
  },
  "language_info": {
   "codemirror_mode": {
    "name": "ipython",
    "version": 3
   },
   "file_extension": ".py",
   "mimetype": "text/x-python",
   "name": "python",
   "nbconvert_exporter": "python",
   "pygments_lexer": "ipython3",
   "version": "3.8.6"
  }
 },
 "nbformat": 4,
 "nbformat_minor": 4
}
