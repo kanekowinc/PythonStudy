{
 "cells": [
  {
   "cell_type": "code",
   "execution_count": null,
   "metadata": {},
   "outputs": [],
   "source": [
    "N = int(input())\n",
    "A = list(map(int,input().split()))\n",
    "\n",
    "A.sort(reverse=True)\n",
    "\n",
    "t = 0\n",
    "ans = 0\n",
    "for i in range(N - 1, 0, -1):\n",
    "  t += A[i]\n",
    "  ans += A[i - 1] * (N - i) - t\n",
    "\n",
    "print(ans)\n"
   ]
  }
 ],
 "metadata": {
  "kernelspec": {
   "display_name": "Python 3",
   "language": "python",
   "name": "python3"
  },
  "language_info": {
   "codemirror_mode": {
    "name": "ipython",
    "version": 3
   },
   "file_extension": ".py",
   "mimetype": "text/x-python",
   "name": "python",
   "nbconvert_exporter": "python",
   "pygments_lexer": "ipython3",
   "version": "3.8.6"
  }
 },
 "nbformat": 4,
 "nbformat_minor": 4
}
