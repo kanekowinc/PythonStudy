{
 "cells": [
  {
   "cell_type": "code",
   "execution_count": 18,
   "metadata": {},
   "outputs": [
    {
     "name": "stdin",
     "output_type": "stream",
     "text": [
      " 10 4\n",
      " 17 13 13 12 15 20 10 13 17 11\n"
     ]
    },
    {
     "name": "stdout",
     "output_type": "stream",
     "text": [
      "10.5\n",
      "16.0\n",
      "23.0\n",
      "32.0\n",
      "32.0\n"
     ]
    }
   ],
   "source": [
    "N,K = map(int,input().split())\n",
    "p = list(map(int,input().split()))\n",
    "su = sum(p[0:K])\n",
    "\n",
    "cur_max = su\n",
    "a = K-1\n",
    "t_idx = 0\n",
    "for i in range(N-K):\n",
    "    cur_max -= p[i]\n",
    "    cur_max += p[i+K]\n",
    "    \n",
    "    if cur_max < su:\n",
    "        cur_max = su\n",
    "    else:\n",
    "        t_idx = i+1\n",
    "    a += 1\n",
    "\n",
    "ret = 0\n",
    "for i in range(t_idx,t_idx+K):\n",
    "    ret += (1+p[i])/2\n",
    "    \n",
    "print(ret)"
   ]
  },
  {
   "cell_type": "code",
   "execution_count": null,
   "metadata": {},
   "outputs": [],
   "source": []
  }
 ],
 "metadata": {
  "kernelspec": {
   "display_name": "Python 3",
   "language": "python",
   "name": "python3"
  },
  "language_info": {
   "codemirror_mode": {
    "name": "ipython",
    "version": 3
   },
   "file_extension": ".py",
   "mimetype": "text/x-python",
   "name": "python",
   "nbconvert_exporter": "python",
   "pygments_lexer": "ipython3",
   "version": "3.8.6"
  }
 },
 "nbformat": 4,
 "nbformat_minor": 4
}
