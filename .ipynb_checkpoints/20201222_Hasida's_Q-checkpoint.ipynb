{
 "cells": [
  {
   "cell_type": "code",
   "execution_count": 13,
   "metadata": {},
   "outputs": [
    {
     "name": "stdout",
     "output_type": "stream",
     "text": [
      "[29, 20, 94, 66, 60, 16, 47, 61, 74, 89]\n"
     ]
    }
   ],
   "source": [
    "import random\n",
    "list = []\n",
    "for i in range(10):\n",
    "    list.append(random.randint(0,100))\n",
    "print(list)"
   ]
  },
  {
   "cell_type": "code",
   "execution_count": 16,
   "metadata": {},
   "outputs": [
    {
     "name": "stdout",
     "output_type": "stream",
     "text": [
      "[3, 2, 11, 9, 24]\n"
     ]
    }
   ],
   "source": [
    "import random\n",
    "list = []\n",
    "for i in range(5):\n",
    "    list.append(random.randint(0,50))\n",
    "print(list)"
   ]
  },
  {
   "cell_type": "code",
   "execution_count": 7,
   "metadata": {},
   "outputs": [
    {
     "name": "stdout",
     "output_type": "stream",
     "text": [
      "[76, 75, 74, 12, 58, 64, 61, 71, 45, 74, 19, 91, 32, 66, 113, 35, 54, 45, 37, 49, 71, 79, 80, 41, 58, 44, 56, 63, 83, 72, 46, 65, 26, 51, 67, 29, 52, 71, 46, 55, 36, 20, 9, 41, 36, 58, 68, 47, 62, 61]\n"
     ]
    }
   ],
   "source": [
    "import numpy as np\n",
    "\n",
    "# よく学生の入試の点数は正規分布に従うと言われます。\n",
    "# ランダムな正規分布に従う学生の入試の点数を50人分作成してください。\n",
    "# なお平均点は60.0点、標準偏差は20.0とします。\n",
    "\n",
    "# 平均 60, 標準偏差 20 の正規乱数を50件生成\n",
    "x = list(map(round,np.random.normal(60, 20, 50)))\n",
    "print(x)\n"
   ]
  },
  {
   "cell_type": "code",
   "execution_count": null,
   "metadata": {},
   "outputs": [],
   "source": [
    "# 正規分布は平均点を元に、±1σの範囲に68%、±2σの範囲に95%、±3σの範囲に99%となるような分布の事なので、\n",
    "# 40～80点の間に、50*0.68人\n",
    "# 20～40点、80～100点の間に、50-（0.95-0.68）人\n",
    "# のような感じになる分布を作成すればいい\n"
   ]
  }
 ],
 "metadata": {
  "kernelspec": {
   "display_name": "Python 3",
   "language": "python",
   "name": "python3"
  },
  "language_info": {
   "codemirror_mode": {
    "name": "ipython",
    "version": 3
   },
   "file_extension": ".py",
   "mimetype": "text/x-python",
   "name": "python",
   "nbconvert_exporter": "python",
   "pygments_lexer": "ipython3",
   "version": "3.8.6"
  }
 },
 "nbformat": 4,
 "nbformat_minor": 4
}
