{
 "cells": [
  {
   "cell_type": "code",
   "execution_count": null,
   "metadata": {},
   "outputs": [],
   "source": [
    "# 入力値を取得\n",
    "N = input()\n",
    "A = list(map(int,input().split()))\n",
    "\n",
    "# kの最大値を保持する変数\n",
    "max_k = 0\n",
    "\n",
    "# GCD度の最大値を保持する変数\n",
    "max_gcd = 0\n",
    "\n",
    "# 2以上の整数をkとする\n",
    "for k in range(2, max(A) + 1):\n",
    "    # 現在のGCD\n",
    "    current_gcd = 0\n",
    "    \n",
    "    for a in A:\n",
    "        if a % k = 0:\n",
    "            k_gcd += 1\n",
    "    if max_gcd[\"gcd\"] < k_gcd:\n",
    "        max_gcd\n",
    "            \n"
   ]
  }
 ],
 "metadata": {
  "kernelspec": {
   "display_name": "Python 3",
   "language": "python",
   "name": "python3"
  },
  "language_info": {
   "codemirror_mode": {
    "name": "ipython",
    "version": 3
   },
   "file_extension": ".py",
   "mimetype": "text/x-python",
   "name": "python",
   "nbconvert_exporter": "python",
   "pygments_lexer": "ipython3",
   "version": "3.8.6"
  }
 },
 "nbformat": 4,
 "nbformat_minor": 4
}
