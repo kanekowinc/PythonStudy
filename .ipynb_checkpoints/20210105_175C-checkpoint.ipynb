{
 "cells": [
  {
   "cell_type": "code",
   "execution_count": 31,
   "metadata": {},
   "outputs": [
    {
     "name": "stdin",
     "output_type": "stream",
     "text": [
      " 20 7 3\n"
     ]
    },
    {
     "name": "stdout",
     "output_type": "stream",
     "text": [
      "17\n",
      "14\n",
      "11\n",
      "8\n",
      "5\n",
      "2\n",
      "1\n"
     ]
    }
   ],
   "source": [
    "X,K,D = map(int,input().split())\n",
    "\n",
    "for k in range(K):\n",
    "    X = min(abs(X-D), abs(X+D))\n",
    "    print(X)\n",
    "    if X < D:\n",
    "        if k == K-1:\n",
    "            break\n",
    "            \n",
    "        X = min(abs(X-D), abs(X+D))\n",
    "        break\n",
    "        \n",
    "print(abs(X))"
   ]
  },
  {
   "cell_type": "code",
   "execution_count": null,
   "metadata": {},
   "outputs": [],
   "source": [
    "10 4 3\n",
    "\n",
    "10 7 4 1 -2"
   ]
  }
 ],
 "metadata": {
  "kernelspec": {
   "display_name": "Python 3",
   "language": "python",
   "name": "python3"
  },
  "language_info": {
   "codemirror_mode": {
    "name": "ipython",
    "version": 3
   },
   "file_extension": ".py",
   "mimetype": "text/x-python",
   "name": "python",
   "nbconvert_exporter": "python",
   "pygments_lexer": "ipython3",
   "version": "3.8.6"
  }
 },
 "nbformat": 4,
 "nbformat_minor": 4
}
