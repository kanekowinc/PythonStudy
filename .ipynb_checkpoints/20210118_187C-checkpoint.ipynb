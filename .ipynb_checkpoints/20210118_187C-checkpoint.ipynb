{
 "cells": [
  {
   "cell_type": "code",
   "execution_count": null,
   "metadata": {},
   "outputs": [],
   "source": [
    "N = int(input())\n",
    "S = [input() for _ in range(N)]\n",
    "\n",
    "ret = \"satisfiable\"\n",
    "for s in S:\n",
    "    if s[0] == \"!\":\n",
    "        if s[1:] in S:\n",
    "            ret = s[1:]\n",
    "            break\n",
    "\n",
    "print(ret)\n",
    "        "
   ]
  },
  {
   "cell_type": "code",
   "execution_count": 11,
   "metadata": {},
   "outputs": [
    {
     "data": {
      "text/plain": [
       "['1', '2', '3', '5']"
      ]
     },
     "execution_count": 11,
     "metadata": {},
     "output_type": "execute_result"
    }
   ],
   "source": [
    "S"
   ]
  },
  {
   "cell_type": "code",
   "execution_count": 14,
   "metadata": {},
   "outputs": [
    {
     "name": "stdout",
     "output_type": "stream",
     "text": [
      "!AA !含むよ\n"
     ]
    }
   ],
   "source": [
    "if \"!fff\"[:1] == \"!\":\n",
    "        print(s + \" !含むよ\")"
   ]
  },
  {
   "cell_type": "code",
   "execution_count": 12,
   "metadata": {},
   "outputs": [
    {
     "name": "stdout",
     "output_type": "stream",
     "text": [
      "adftg\n"
     ]
    }
   ],
   "source": [
    "a = \"!adftg\"\n",
    "print(a[1:len(a)])"
   ]
  },
  {
   "cell_type": "code",
   "execution_count": null,
   "metadata": {},
   "outputs": [],
   "source": [
    "N = int(input())\n",
    "\n",
    "A = []\n",
    "B = []\n",
    "for n in range(N):\n",
    "    if s[0] == \"!\":\n",
    "        A.append(s)\n",
    "    else:\n",
    "        B.append(s)\n",
    "        \n",
    "ret = \"satisfiable\"\n",
    "print(ret)\n",
    "        "
   ]
  },
  {
   "cell_type": "code",
   "execution_count": null,
   "metadata": {},
   "outputs": [],
   "source": []
  }
 ],
 "metadata": {
  "kernelspec": {
   "display_name": "Python 3",
   "language": "python",
   "name": "python3"
  },
  "language_info": {
   "codemirror_mode": {
    "name": "ipython",
    "version": 3
   },
   "file_extension": ".py",
   "mimetype": "text/x-python",
   "name": "python",
   "nbconvert_exporter": "python",
   "pygments_lexer": "ipython3",
   "version": "3.8.6"
  }
 },
 "nbformat": 4,
 "nbformat_minor": 4
}
