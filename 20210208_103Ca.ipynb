{
 "cells": [
  {
   "cell_type": "code",
   "execution_count": 11,
   "metadata": {},
   "outputs": [
    {
     "name": "stdin",
     "output_type": "stream",
     "text": [
      " 7\n",
      " 994 518 941 851 647 2 581\n"
     ]
    },
    {
     "name": "stdout",
     "output_type": "stream",
     "text": [
      "4527\n"
     ]
    }
   ],
   "source": [
    "import math\n",
    "\n",
    "N = int(input())\n",
    "a = list(map(int, input().split()))\n",
    "koubaisu = a[0]\n",
    "for i in range(1, N):\n",
    "    koubaisu = koubaisu * a[i] // math.gcd(koubaisu, a[i])\n",
    "\n",
    "ans = 0\n",
    "for i in range(N):\n",
    "    ans += (koubaisu-1) % a[i]\n",
    "    \n",
    "print(ans)"
   ]
  },
  {
   "cell_type": "code",
   "execution_count": null,
   "metadata": {},
   "outputs": [],
   "source": [
    "N = 3\n",
    "a = [3, 4, 6]\n",
    "\n",
    "あまりが最大になる場合、mは入力値aの最大公倍数から、1引いたもの\n",
    "→\n",
    "３，４，６の最大公倍数は12\n",
    "12 - 1 = 11\n",
    "11は、入力値のすべてにたいして、あまりが最大になる数\n"
   ]
  },
  {
   "cell_type": "code",
   "execution_count": 16,
   "metadata": {},
   "outputs": [
    {
     "name": "stdin",
     "output_type": "stream",
     "text": [
      " 3\n",
      " 3 4 6\n"
     ]
    },
    {
     "name": "stdout",
     "output_type": "stream",
     "text": [
      "10\n"
     ]
    }
   ],
   "source": [
    "N = int(input())\n",
    "a = list(map(int, input().split()))\n",
    "\n",
    "#それぞれの余りの最大値の和\n",
    "print(sum(a) - N)"
   ]
  },
  {
   "cell_type": "code",
   "execution_count": null,
   "metadata": {},
   "outputs": [],
   "source": []
  }
 ],
 "metadata": {
  "kernelspec": {
   "display_name": "Python 3",
   "language": "python",
   "name": "python3"
  },
  "language_info": {
   "codemirror_mode": {
    "name": "ipython",
    "version": 3
   },
   "file_extension": ".py",
   "mimetype": "text/x-python",
   "name": "python",
   "nbconvert_exporter": "python",
   "pygments_lexer": "ipython3",
   "version": "3.8.6"
  }
 },
 "nbformat": 4,
 "nbformat_minor": 4
}
