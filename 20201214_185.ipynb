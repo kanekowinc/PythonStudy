{
 "cells": [
  {
   "cell_type": "code",
   "execution_count": 24,
   "metadata": {},
   "outputs": [
    {
     "name": "stdin",
     "output_type": "stream",
     "text": [
      " 10 2 30\n",
      " 1 5\n",
      " 7 9\n"
     ]
    },
    {
     "name": "stdout",
     "output_type": "stream",
     "text": [
      "9\n",
      "15\n",
      "10\n",
      "14\n",
      "-7\n"
     ]
    }
   ],
   "source": [
    "N,M,T = map(int,input().split())\n",
    "a,b = [list(map(int,input().split())) for _ in range(M)]\n",
    "\n",
    "for m in range(M):\n",
    "    # バッテリー消費\n",
    "    N -= a[m]\n",
    "    if N < 0:\n",
    "        N = 0\n",
    "    print(N)\n",
    "    \n",
    "    # バッテリー充電\n",
    "    N += (b[m] - a[m])\n",
    "    print(N)\n",
    "\n",
    "N -= T - b[M - 1]\n",
    "print(N)"
   ]
  },
  {
   "cell_type": "code",
   "execution_count": null,
   "metadata": {},
   "outputs": [],
   "source": []
  }
 ],
 "metadata": {
  "kernelspec": {
   "display_name": "Python 3",
   "language": "python",
   "name": "python3"
  },
  "language_info": {
   "codemirror_mode": {
    "name": "ipython",
    "version": 3
   },
   "file_extension": ".py",
   "mimetype": "text/x-python",
   "name": "python",
   "nbconvert_exporter": "python",
   "pygments_lexer": "ipython3",
   "version": "3.8.6"
  }
 },
 "nbformat": 4,
 "nbformat_minor": 4
}
