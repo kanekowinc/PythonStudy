{
 "cells": [
  {
   "cell_type": "code",
   "execution_count": 38,
   "metadata": {},
   "outputs": [
    {
     "name": "stdin",
     "output_type": "stream",
     "text": [
      " 4\n",
      " 2 1 1 1\n"
     ]
    },
    {
     "name": "stdout",
     "output_type": "stream",
     "text": [
      "No\n"
     ]
    }
   ],
   "source": [
    "N = int(input())\n",
    "H = list(map(int,input().split()))\n",
    "\n",
    "cur = H[0]\n",
    "result = \"Yes\"\n",
    "for i in range(1,N):\n",
    "    if cur > H[i]:\n",
    "        result = \"No\"\n",
    "    else:\n",
    "        cur = max((H[i] - 1),cur)\n",
    "    \n",
    "print(result)"
   ]
  },
  {
   "cell_type": "code",
   "execution_count": 2,
   "metadata": {},
   "outputs": [
    {
     "data": {
      "text/plain": [
       "[1, 2, 3, 4, 5]"
      ]
     },
     "execution_count": 2,
     "metadata": {},
     "output_type": "execute_result"
    }
   ],
   "source": [
    "H"
   ]
  },
  {
   "cell_type": "code",
   "execution_count": null,
   "metadata": {},
   "outputs": [],
   "source": [
    "H = 1 2 1 1 1\n",
    "\n",
    "H = 1 3 2 1 \n",
    "cur = 2\n",
    "\n"
   ]
  },
  {
   "cell_type": "code",
   "execution_count": 1,
   "metadata": {},
   "outputs": [
    {
     "name": "stdin",
     "output_type": "stream",
     "text": [
      " 5\n",
      " 1 3 1 1 1\n"
     ]
    },
    {
     "name": "stdout",
     "output_type": "stream",
     "text": [
      "No\n",
      "No\n",
      "No\n",
      "Yes\n"
     ]
    }
   ],
   "source": []
  },
  {
   "cell_type": "code",
   "execution_count": null,
   "metadata": {},
   "outputs": [],
   "source": [
    "N = int(input())\n",
    "H = list(map(int,input().split()))\n",
    "\n",
    "cur = H[0]\n",
    "flg = True\n",
    "for i in range(1,N):\n",
    "#     print(\"curの値 \" + str(cur))\n",
    "    if cur > H[i]:\n",
    "#         print(\"cur - H[i] >= 2  \" + str(cur))\n",
    "        flg = False\n",
    "    else:\n",
    "#         print(\"else  \" + str(cur))\n",
    "        cur = max((H[i] - 1),cur)\n",
    "        \n",
    "#     print(\"-----------------\")\n",
    "    \n",
    "print(\"Yes\" if flg else \"No\")"
   ]
  }
 ],
 "metadata": {
  "kernelspec": {
   "display_name": "Python 3",
   "language": "python",
   "name": "python3"
  },
  "language_info": {
   "codemirror_mode": {
    "name": "ipython",
    "version": 3
   },
   "file_extension": ".py",
   "mimetype": "text/x-python",
   "name": "python",
   "nbconvert_exporter": "python",
   "pygments_lexer": "ipython3",
   "version": "3.8.6"
  }
 },
 "nbformat": 4,
 "nbformat_minor": 4
}
