{
 "cells": [
  {
   "cell_type": "code",
   "execution_count": 8,
   "metadata": {},
   "outputs": [
    {
     "name": "stdin",
     "output_type": "stream",
     "text": [
      " 11\n",
      " 11\n",
      " 11\n",
      " 11\n",
      " 11\n"
     ]
    },
    {
     "name": "stdout",
     "output_type": "stream",
     "text": [
      "50\n"
     ]
    }
   ],
   "source": [
    "# 値取得\n",
    "array = [int(input()) for x in range(5)]\n",
    "\n",
    "#一の桁が最小のインデックスを取得\n",
    "target_index = 0\n",
    "for i in range(5):\n",
    "    if 0 < array[i]%10 and array[i]%10 < array[target_index]%10:\n",
    "        target_index = i\n",
    "\n",
    "#計算\n",
    "result = 0\n",
    "for j in range(5):\n",
    "    if i == target_index or array[j]%10 == 0:\n",
    "        result += array[j]\n",
    "    else:\n",
    "        result += array[j]//10*10\n",
    "\n",
    "print(int(result))"
   ]
  },
  {
   "cell_type": "code",
   "execution_count": null,
   "metadata": {},
   "outputs": [],
   "source": []
  }
 ],
 "metadata": {
  "kernelspec": {
   "display_name": "Python 3",
   "language": "python",
   "name": "python3"
  },
  "language_info": {
   "codemirror_mode": {
    "name": "ipython",
    "version": 3
   },
   "file_extension": ".py",
   "mimetype": "text/x-python",
   "name": "python",
   "nbconvert_exporter": "python",
   "pygments_lexer": "ipython3",
   "version": "3.8.6"
  }
 },
 "nbformat": 4,
 "nbformat_minor": 4
}
