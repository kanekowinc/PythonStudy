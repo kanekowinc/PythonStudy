{
 "cells": [
  {
   "cell_type": "code",
   "execution_count": null,
   "metadata": {},
   "outputs": [],
   "source": [
    "# 入力を受け取る\n",
    "N = input()\n",
    "\n",
    "# 各桁の数の総和を求める\n",
    "result = 0\n",
    "for n in N:\n",
    "    result += int(n)\n",
    "    \n",
    "# 総和を9で割って余りが0だったら「yes」そうではない場合「no」を返す\n",
    "if result % 9 == 0:\n",
    "    print('Yes')\n",
    "else:\n",
    "    print('No')\n"
   ]
  }
 ],
 "metadata": {
  "kernelspec": {
   "display_name": "Python 3",
   "language": "python",
   "name": "python3"
  },
  "language_info": {
   "codemirror_mode": {
    "name": "ipython",
    "version": 3
   },
   "file_extension": ".py",
   "mimetype": "text/x-python",
   "name": "python",
   "nbconvert_exporter": "python",
   "pygments_lexer": "ipython3",
   "version": "3.8.6"
  }
 },
 "nbformat": 4,
 "nbformat_minor": 4
}
