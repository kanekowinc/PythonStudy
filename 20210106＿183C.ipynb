{
 "cells": [
  {
   "cell_type": "code",
   "execution_count": 3,
   "metadata": {},
   "outputs": [
    {
     "name": "stdin",
     "output_type": "stream",
     "text": [
      " 4 330\n",
      " 0 1 1 1\n",
      " 0 2 2 2\n",
      " 0 3 3 3\n",
      " 0 4 4 4\n"
     ]
    },
    {
     "name": "stdout",
     "output_type": "stream",
     "text": [
      "[[0, 1, 1, 1], [0, 2, 2, 2], [0, 3, 3, 3], [0, 4, 4, 4]]\n"
     ]
    }
   ],
   "source": [
    "N,K = map(int,input().split())\n",
    "T = [list(map(int,input().split())) for _ in range(N)]\n",
    "\n",
    "print(T)"
   ]
  },
  {
   "cell_type": "code",
   "execution_count": 4,
   "metadata": {},
   "outputs": [
    {
     "name": "stdin",
     "output_type": "stream",
     "text": [
      " 4 330\n",
      " 0 1 10 100\n",
      " 1 0 20 200\n",
      " 10 20 0 300\n",
      " 100 200 300 0\n"
     ]
    },
    {
     "name": "stdout",
     "output_type": "stream",
     "text": [
      "2\n"
     ]
    }
   ],
   "source": [
    "import itertools\n",
    " \n",
    "N, K = map(int,input().split())\n",
    "T = [list(map(int, input().split())) for _ in range(N)]\n",
    " \n",
    "route = itertools.permutations(range(1, N))\n",
    " \n",
    "cnt = 0\n",
    "for r in route:\n",
    "    now = 0\n",
    "    l = 0\n",
    "    for u in r:\n",
    "        l += T[now][u]\n",
    "        now = u\n",
    "    l += T[now][0]\n",
    "    \n",
    "    if l == K:\n",
    "        cnt += 1\n",
    "        \n",
    "print(cnt)"
   ]
  },
  {
   "cell_type": "code",
   "execution_count": null,
   "metadata": {},
   "outputs": [],
   "source": []
  }
 ],
 "metadata": {
  "kernelspec": {
   "display_name": "Python 3",
   "language": "python",
   "name": "python3"
  },
  "language_info": {
   "codemirror_mode": {
    "name": "ipython",
    "version": 3
   },
   "file_extension": ".py",
   "mimetype": "text/x-python",
   "name": "python",
   "nbconvert_exporter": "python",
   "pygments_lexer": "ipython3",
   "version": "3.8.6"
  }
 },
 "nbformat": 4,
 "nbformat_minor": 4
}
