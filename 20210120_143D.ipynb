{
 "cells": [
  {
   "cell_type": "code",
   "execution_count": null,
   "metadata": {},
   "outputs": [],
   "source": [
    "1 2 3 4 5が与えられた場合\n",
    "\n",
    "(1 2) 3　(1 2) 4 (1 2) 5 不可というかこれがだめなら1を使うこと自体不可\n",
    "1を候補から外す\n",
    "(2 3) 4 ok\n",
    "(2 3) 5 bad\n",
    "\n",
    "(2 4) 5 ok\n",
    "\n",
    "3 4 5 ok\n",
    "\n",
    "10 20 25 31 40 50\n",
    "\n",
    "10 20 25 ok\n",
    "10 20 31 ok\n",
    "10 20 45 ok\n",
    "10 31 40 ok\n",
    "\n",
    "\n"
   ]
  },
  {
   "cell_type": "code",
   "execution_count": 16,
   "metadata": {},
   "outputs": [
    {
     "name": "stdin",
     "output_type": "stream",
     "text": [
      " 7\n",
      " 218 786 704 233 645 728 389\n"
     ]
    },
    {
     "name": "stdout",
     "output_type": "stream",
     "text": [
      "4\n"
     ]
    }
   ],
   "source": [
    "N = int(input())\n",
    "L = list(map(int,input().split()))\n",
    "L.sort()\n",
    "\n",
    "count = 0\n",
    "while len(L) >= N-2:\n",
    "    for i in range(2,len(L)):\n",
    "#         print(\"for文\" + str(i))\n",
    "        if (L[0] + L[1]) > L[i]:\n",
    "            count += 1\n",
    "    L.pop(0)\n",
    "    \n",
    "print(count)\n",
    "\n"
   ]
  },
  {
   "cell_type": "code",
   "execution_count": 6,
   "metadata": {},
   "outputs": [
    {
     "data": {
      "text/plain": [
       "1"
      ]
     },
     "execution_count": 6,
     "metadata": {},
     "output_type": "execute_result"
    }
   ],
   "source": [
    "len(L)"
   ]
  },
  {
   "cell_type": "markdown",
   "metadata": {},
   "source": [
    "# "
   ]
  }
 ],
 "metadata": {
  "kernelspec": {
   "display_name": "Python 3",
   "language": "python",
   "name": "python3"
  },
  "language_info": {
   "codemirror_mode": {
    "name": "ipython",
    "version": 3
   },
   "file_extension": ".py",
   "mimetype": "text/x-python",
   "name": "python",
   "nbconvert_exporter": "python",
   "pygments_lexer": "ipython3",
   "version": "3.8.6"
  }
 },
 "nbformat": 4,
 "nbformat_minor": 4
}
