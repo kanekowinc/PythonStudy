{
 "cells": [
  {
   "cell_type": "code",
   "execution_count": 1,
   "metadata": {},
   "outputs": [
    {
     "name": "stdin",
     "output_type": "stream",
     "text": [
      " 10\n",
      " aabbbbaaca\n"
     ]
    },
    {
     "name": "stdout",
     "output_type": "stream",
     "text": [
      "5\n"
     ]
    }
   ],
   "source": [
    "N = int(input())\n",
    "S = input()\n",
    "\n",
    "cur = S[0]\n",
    "count = 1\n",
    "for n in range(1,N):\n",
    "    if cur != S[n]:\n",
    "        cur = S[n]\n",
    "        count += 1\n",
    "print(count)        \n"
   ]
  },
  {
   "cell_type": "code",
   "execution_count": null,
   "metadata": {},
   "outputs": [],
   "source": [
    "1 2 3 4 5が与えられた場合\n",
    "\n",
    "(1 2) 3　(1 2) 4 (1 2) 5 不可というかこれがだめなら1を使うこと自体不可\n",
    "1を候補から外す\n",
    "(2 3) 4 ok\n",
    "(2 3) 5 bad\n",
    "\n",
    "(2 4) 5 ok\n",
    "\n",
    "3 4 5 ok\n",
    "\n",
    "\n",
    "\n"
   ]
  }
 ],
 "metadata": {
  "kernelspec": {
   "display_name": "Python 3",
   "language": "python",
   "name": "python3"
  },
  "language_info": {
   "codemirror_mode": {
    "name": "ipython",
    "version": 3
   },
   "file_extension": ".py",
   "mimetype": "text/x-python",
   "name": "python",
   "nbconvert_exporter": "python",
   "pygments_lexer": "ipython3",
   "version": "3.8.6"
  }
 },
 "nbformat": 4,
 "nbformat_minor": 4
}
