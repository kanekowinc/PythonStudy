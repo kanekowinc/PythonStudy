{
 "cells": [
  {
   "cell_type": "code",
   "execution_count": 22,
   "metadata": {},
   "outputs": [
    {
     "name": "stdout",
     "output_type": "stream",
     "text": [
      "------\n",
      "3\n",
      "------\n",
      "------\n",
      "------\n",
      "------\n",
      "2\n",
      "------\n",
      "------\n",
      "3\n",
      "------\n",
      "------\n",
      "------\n"
     ]
    }
   ],
   "source": [
    "# N = int(input())\n",
    "# H = list(map(int,input().split()))\n",
    "\n",
    "N = 5\n",
    "H = [3,1,2,3,1]\n",
    "\n",
    "# リストをグループ分けする\n",
    "H_ = []\n",
    "\n",
    "previous = 0\n",
    "for h in H:\n",
    "    if h >= previous:\n",
    "        H_[0].append(h)\n",
    "    \n",
    "    cur = h\n",
    "    print(\"------\")"
   ]
  },
  {
   "cell_type": "code",
   "execution_count": null,
   "metadata": {},
   "outputs": [],
   "source": [
    "\n",
    "\n",
    "5\n",
    "4 2 1 3 4　の場合\n",
    "\n",
    "0 0 0 0 0\n",
    "↓\n",
    "1 1 1 1 1\n",
    "2 2 1 1 1\n",
    "3 2 1 1 1\n",
    "4 2 1 1 1\n",
    "4 2 1 2 2\n",
    "4 2 1 3 3\n",
    "4 2 1 3 4\n",
    "\n",
    "5\n",
    "1 0 1 0 1　の場合\n",
    "\n",
    "0 0 0 0 0\n",
    "↓\n",
    "1 0 0 0 0\n",
    "1 0 1 0 0\n",
    "1 0 1 0 1"
   ]
  },
  {
   "cell_type": "code",
   "execution_count": 27,
   "metadata": {},
   "outputs": [
    {
     "name": "stdin",
     "output_type": "stream",
     "text": [
      " 8\n",
      " 4 23 75 0 23 96 50 100\n"
     ]
    },
    {
     "name": "stdout",
     "output_type": "stream",
     "text": [
      "221\n"
     ]
    }
   ],
   "source": [
    "N = int(input())\n",
    "H = list(map(int,input().split()))\n",
    "\n",
    "ret = 0\n",
    "previous = 0 #直前の花の高さ\n",
    "for h in H:\n",
    "    # 今の花の高さが直前よりも大きい場合「直前との差分の水」をかける\n",
    "    if h > previous:\n",
    "        ret += h-previous\n",
    "    previous = h\n",
    "    \n",
    "print(ret)"
   ]
  },
  {
   "cell_type": "code",
   "execution_count": 28,
   "metadata": {},
   "outputs": [
    {
     "name": "stdin",
     "output_type": "stream",
     "text": [
      " 5\n",
      " 3 1 2 3 1\n"
     ]
    },
    {
     "name": "stdout",
     "output_type": "stream",
     "text": [
      "5\n"
     ]
    }
   ],
   "source": [
    "N = int(input())\n",
    "H = list(map(int,input().split()))\n",
    "\n",
    "ret = 0\n",
    "previous = 0 #直前の花の高さ\n",
    "for i in range(N):\n",
    "    # 今の花の高さが直前よりも大きい場合「直前との差分の水」をかける\n",
    "    if H[i] > previous:\n",
    "        ret += H[i] - previous\n",
    "    previous = H[i]\n",
    "    \n",
    "print(ret)"
   ]
  },
  {
   "cell_type": "code",
   "execution_count": null,
   "metadata": {},
   "outputs": [],
   "source": []
  }
 ],
 "metadata": {
  "kernelspec": {
   "display_name": "Python 3",
   "language": "python",
   "name": "python3"
  },
  "language_info": {
   "codemirror_mode": {
    "name": "ipython",
    "version": 3
   },
   "file_extension": ".py",
   "mimetype": "text/x-python",
   "name": "python",
   "nbconvert_exporter": "python",
   "pygments_lexer": "ipython3",
   "version": "3.8.6"
  }
 },
 "nbformat": 4,
 "nbformat_minor": 4
}
