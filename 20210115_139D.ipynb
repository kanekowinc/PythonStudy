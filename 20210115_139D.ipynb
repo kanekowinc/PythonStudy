{
 "cells": [
  {
   "cell_type": "code",
   "execution_count": 8,
   "metadata": {},
   "outputs": [
    {
     "name": "stdin",
     "output_type": "stream",
     "text": [
      " 5\n"
     ]
    },
    {
     "name": "stdout",
     "output_type": "stream",
     "text": [
      "10\n"
     ]
    }
   ],
   "source": [
    "N = int(input())\n",
    "\n",
    "ret = 0\n",
    "for n in range(N):\n",
    "    ret += n\n",
    "\n",
    "print(ret)"
   ]
  },
  {
   "cell_type": "code",
   "execution_count": 11,
   "metadata": {},
   "outputs": [
    {
     "name": "stdin",
     "output_type": "stream",
     "text": [
      " 5\n"
     ]
    },
    {
     "name": "stdout",
     "output_type": "stream",
     "text": [
      "10\n"
     ]
    }
   ],
   "source": [
    "N = int(input())\n",
    "\n",
    "ret = N*(N-1) // 2\n",
    "\n",
    "print(ret)"
   ]
  },
  {
   "cell_type": "code",
   "execution_count": null,
   "metadata": {},
   "outputs": [],
   "source": [
    "N = 5 とする\n",
    "\n",
    "iをPで割った余りをMとする\n",
    "i % P = M\n",
    "\n",
    "P = 1 2 3 4 5\n",
    "i = 1 2 3 4 5\n",
    "の場合\n",
    "M = 0 0 0 0 0\n",
    "\n",
    "P = 2 3 4 5 1\n",
    "i = 1 2 3 4 5\n",
    "の場合\n",
    "M = 1 2 3 4 0\n",
    "\n",
    "\n"
   ]
  }
 ],
 "metadata": {
  "kernelspec": {
   "display_name": "Python 3",
   "language": "python",
   "name": "python3"
  },
  "language_info": {
   "codemirror_mode": {
    "name": "ipython",
    "version": 3
   },
   "file_extension": ".py",
   "mimetype": "text/x-python",
   "name": "python",
   "nbconvert_exporter": "python",
   "pygments_lexer": "ipython3",
   "version": "3.8.6"
  }
 },
 "nbformat": 4,
 "nbformat_minor": 4
}
