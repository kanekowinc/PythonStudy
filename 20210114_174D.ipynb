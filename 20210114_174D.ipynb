{
 "cells": [
  {
   "cell_type": "code",
   "execution_count": 18,
   "metadata": {},
   "outputs": [
    {
     "name": "stdin",
     "output_type": "stream",
     "text": [
      " 10\n",
      " WRRRWWRWRW\n"
     ]
    },
    {
     "name": "stdout",
     "output_type": "stream",
     "text": [
      "2\n"
     ]
    }
   ],
   "source": [
    "N = int(input())\n",
    "c = list(input())\n",
    "\n",
    "r_count = c.count(\"R\")\n",
    "\n",
    "print(c[:(r_count)].count(\"W\"))"
   ]
  },
  {
   "cell_type": "code",
   "execution_count": 7,
   "metadata": {},
   "outputs": [
    {
     "data": {
      "text/plain": [
       "['W', 'R', 'W']"
      ]
     },
     "execution_count": 7,
     "metadata": {},
     "output_type": "execute_result"
    }
   ],
   "source": [
    "10\n",
    "W R R R W W R W R W\n",
    "1 2 3 4 5 6 7 8 9 10\n",
    "\n",
    "Rを全部左に寄せればいい\n",
    "つまりここでは、1 ~ 5までをRで埋めてしまうといい。\n",
    "1 ~ 5 の中の不純物W の数を数えて出力すればいい\n",
    "\n",
    "10\n",
    "W R R R W W W W W W\n",
    "1 2 3 4 5 6 7 8 9 10\n"
   ]
  },
  {
   "cell_type": "code",
   "execution_count": 3,
   "metadata": {},
   "outputs": [
    {
     "ename": "SyntaxError",
     "evalue": "invalid character in identifier (<ipython-input-3-c4a497329957>, line 1)",
     "output_type": "error",
     "traceback": [
      "\u001b[1;36m  File \u001b[1;32m\"<ipython-input-3-c4a497329957>\"\u001b[1;36m, line \u001b[1;32m1\u001b[0m\n\u001b[1;33m    例）\u001b[0m\n\u001b[1;37m     ^\u001b[0m\n\u001b[1;31mSyntaxError\u001b[0m\u001b[1;31m:\u001b[0m invalid character in identifier\n"
     ]
    }
   ],
   "source": [
    "例）\n",
    "WWRR\n",
    ">\n",
    "RWRW\n",
    ">\n",
    "RWWW またはRRWW\n",
    "\n",
    "WRという並びはダメ\n",
    "RRRRRRWWWWWW\n",
    "ならOK\n"
   ]
  },
  {
   "cell_type": "code",
   "execution_count": null,
   "metadata": {},
   "outputs": [],
   "source": [
    "WWRRだとすると\n",
    "w_count = 2\n",
    "r_count = 2\n",
    "\n",
    "\n",
    "\n",
    "print(r_count- c[0:r_count].count(\"R\"))"
   ]
  }
 ],
 "metadata": {
  "kernelspec": {
   "display_name": "Python 3",
   "language": "python",
   "name": "python3"
  },
  "language_info": {
   "codemirror_mode": {
    "name": "ipython",
    "version": 3
   },
   "file_extension": ".py",
   "mimetype": "text/x-python",
   "name": "python",
   "nbconvert_exporter": "python",
   "pygments_lexer": "ipython3",
   "version": "3.8.6"
  }
 },
 "nbformat": 4,
 "nbformat_minor": 4
}
