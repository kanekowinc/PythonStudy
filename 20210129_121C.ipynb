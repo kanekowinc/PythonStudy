{
 "cells": [
  {
   "cell_type": "code",
   "execution_count": 21,
   "metadata": {},
   "outputs": [
    {
     "name": "stdin",
     "output_type": "stream",
     "text": [
      " 4 30\n",
      " 6 18\n",
      " 2 5\n",
      " 3 10\n",
      " 7 9\n"
     ]
    },
    {
     "name": "stdout",
     "output_type": "stream",
     "text": [
      "130\n"
     ]
    }
   ],
   "source": [
    "N,M = map(int,input().split()) #件数と買いたい本数\n",
    "AB = [list(map(int, input().split())) for _ in range(N)] #金額と買える本数\n",
    "AB.sort()\n",
    "\n",
    "money = 0\n",
    "for ab in AB:\n",
    "    #買いたい本数が買える本数よりも多い場合\n",
    "    if M > ab[1]:\n",
    "        M -= ab[1] #買いたい本数-今回買う本数\n",
    "        money += ab[1]*ab[0] #本数＊値段\n",
    "    else:\n",
    "        money += M*ab[0]\n",
    "        break\n",
    "\n",
    "print(money)\n",
    "\n"
   ]
  },
  {
   "cell_type": "code",
   "execution_count": 14,
   "metadata": {},
   "outputs": [
    {
     "data": {
      "text/plain": [
       "[[1, 2], [4, 5], [5, 6]]"
      ]
     },
     "execution_count": 14,
     "metadata": {},
     "output_type": "execute_result"
    }
   ],
   "source": [
    "AB"
   ]
  },
  {
   "cell_type": "code",
   "execution_count": null,
   "metadata": {},
   "outputs": [],
   "source": [
    "N = 3\n",
    "M = 3\n",
    "AB = [[1, 2], [4, 5], [5, 6]] "
   ]
  }
 ],
 "metadata": {
  "kernelspec": {
   "display_name": "Python 3",
   "language": "python",
   "name": "python3"
  },
  "language_info": {
   "codemirror_mode": {
    "name": "ipython",
    "version": 3
   },
   "file_extension": ".py",
   "mimetype": "text/x-python",
   "name": "python",
   "nbconvert_exporter": "python",
   "pygments_lexer": "ipython3",
   "version": "3.8.6"
  }
 },
 "nbformat": 4,
 "nbformat_minor": 4
}
