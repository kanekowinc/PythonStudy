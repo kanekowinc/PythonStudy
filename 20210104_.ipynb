{
 "cells": [
  {
   "cell_type": "code",
   "execution_count": 12,
   "metadata": {},
   "outputs": [
    {
     "name": "stdin",
     "output_type": "stream",
     "text": [
      " 9\n",
      " 8 2\n",
      " 2 3\n",
      " 1 3\n",
      " 3 7\n",
      " 1 0\n",
      " 8 8\n",
      " 5 6\n",
      " 9 7\n",
      " 0 1\n"
     ]
    },
    {
     "name": "stdout",
     "output_type": "stream",
     "text": [
      "Yes\n"
     ]
    }
   ],
   "source": [
    "N = int(input())\n",
    "p = [list(map(int,input().split())) for i in range(N)]\n",
    "\n",
    "p_sort = sorted(p, key=lambda x:x[0])\n",
    "\n",
    "flg = False\n",
    "for i in range(N):\n",
    "        for j in range(i+1, N):\n",
    "            for k in range(j+1, N):\n",
    "                if (p_sort[i][0] - p_sort[j][0]) * (p_sort[i][1] - p_sort[k][1]) == (p_sort[i][0] - p_sort[k][0]) * (p_sort[i][1] - p_sort[j][1]):\n",
    "                    flg = True\n",
    "                \n",
    "print(\"Yes\" if flg else \"No\")"
   ]
  },
  {
   "cell_type": "code",
   "execution_count": null,
   "metadata": {},
   "outputs": [],
   "source": []
  }
 ],
 "metadata": {
  "kernelspec": {
   "display_name": "Python 3",
   "language": "python",
   "name": "python3"
  },
  "language_info": {
   "codemirror_mode": {
    "name": "ipython",
    "version": 3
   },
   "file_extension": ".py",
   "mimetype": "text/x-python",
   "name": "python",
   "nbconvert_exporter": "python",
   "pygments_lexer": "ipython3",
   "version": "3.8.6"
  }
 },
 "nbformat": 4,
 "nbformat_minor": 4
}
