{
 "cells": [
  {
   "cell_type": "code",
   "execution_count": 9,
   "metadata": {},
   "outputs": [
    {
     "name": "stdin",
     "output_type": "stream",
     "text": [
      " 20 10\n",
      " xxxxxxxxxxxxxxxxxxxx\n"
     ]
    },
    {
     "name": "stdout",
     "output_type": "stream",
     "text": [
      "0\n"
     ]
    }
   ],
   "source": [
    "N,X = map(int,input().split())\n",
    "S = input()\n",
    "\n",
    "for s in S:\n",
    "    if s == \"o\":\n",
    "        X += 1\n",
    "    else:\n",
    "        if X > 0:\n",
    "            X -= 1 \n",
    "            \n",
    "print(X)"
   ]
  },
  {
   "cell_type": "code",
   "execution_count": 12,
   "metadata": {},
   "outputs": [
    {
     "name": "stdin",
     "output_type": "stream",
     "text": [
      " 3 0\n",
      " xox\n"
     ]
    },
    {
     "name": "stdout",
     "output_type": "stream",
     "text": [
      "1\n"
     ]
    }
   ],
   "source": [
    "N,X = map(int,input().split())\n",
    "S = input()\n",
    "\n",
    "for s in S:\n",
    "    if s == \"x\" and X != 0:\n",
    "        X -= 1 \n",
    "    else:\n",
    "        X += 1\n",
    "            \n",
    "print(X)"
   ]
  },
  {
   "cell_type": "code",
   "execution_count": null,
   "metadata": {},
   "outputs": [],
   "source": [
    "N,X = map(int,input().split())\n",
    "S = input()\n",
    "\n",
    "[X += 1 if s == \"o\" else  for s in S:\n",
    "    if s == \"o\":\n",
    "       \n",
    "    else:\n",
    "        if X != 0:\n",
    "            X -= 1 \n",
    "            \n",
    "print(X)"
   ]
  }
 ],
 "metadata": {
  "kernelspec": {
   "display_name": "Python 3",
   "language": "python",
   "name": "python3"
  },
  "language_info": {
   "codemirror_mode": {
    "name": "ipython",
    "version": 3
   },
   "file_extension": ".py",
   "mimetype": "text/x-python",
   "name": "python",
   "nbconvert_exporter": "python",
   "pygments_lexer": "ipython3",
   "version": "3.8.6"
  }
 },
 "nbformat": 4,
 "nbformat_minor": 4
}
