{
 "cells": [
  {
   "cell_type": "code",
   "execution_count": null,
   "metadata": {},
   "outputs": [],
   "source": [
    "H,N = map(int,input().split())\n",
    "\n",
    "A = map(int,input().split())\n",
    "\n",
    "print(\"Yes\" if sum(A) >= H else \"No\")"
   ]
  },
  {
   "cell_type": "code",
   "execution_count": 3,
   "metadata": {},
   "outputs": [
    {
     "name": "stdin",
     "output_type": "stream",
     "text": [
      " 10 3\n",
      " 4 5 6\n"
     ]
    },
    {
     "name": "stdout",
     "output_type": "stream",
     "text": [
      "Yes\n"
     ]
    }
   ],
   "source": [
    "H,N = map(int,input().split())\n",
    "\n",
    "print(\"Yes\" if sum([a for a in map(int,input().split())]) >= H else \"No\")"
   ]
  },
  {
   "cell_type": "code",
   "execution_count": 9,
   "metadata": {},
   "outputs": [
    {
     "name": "stdin",
     "output_type": "stream",
     "text": [
      " 3 0\n",
      " 1000000000 1000000000 1000000000\n"
     ]
    },
    {
     "name": "stdout",
     "output_type": "stream",
     "text": [
      "3000000000\n"
     ]
    }
   ],
   "source": [
    "N,K = map(int,input().split())\n",
    "H = map(int,input().split())\n",
    "\n",
    "sorted_H = sorted(H,reverse=True)\n",
    "\n",
    "if K >= N:\n",
    "    print(0)\n",
    "else:\n",
    "    ret = sum(sorted_H[K:])\n",
    "    print(ret)"
   ]
  },
  {
   "cell_type": "code",
   "execution_count": 17,
   "metadata": {},
   "outputs": [
    {
     "name": "stdin",
     "output_type": "stream",
     "text": [
      " 8 9\n"
     ]
    },
    {
     "name": "stdout",
     "output_type": "stream",
     "text": [
      "0\n"
     ]
    }
   ],
   "source": [
    "N,K = map(int,input().split())\n",
    "\n",
    "print(0 if K >= N else sum(sorted(map(int,input().split()),reverse=True)[K:]))"
   ]
  },
  {
   "cell_type": "code",
   "execution_count": 20,
   "metadata": {},
   "outputs": [
    {
     "name": "stdin",
     "output_type": "stream",
     "text": [
      " 3\n"
     ]
    },
    {
     "name": "stdout",
     "output_type": "stream",
     "text": [
      "1\n"
     ]
    }
   ],
   "source": [
    "H = int(input())\n",
    "\n",
    "#モンスターの体力が0なら1を出力\n",
    "if H == 1:\n",
    "    print(1)\n",
    "\n",
    "#2で割り切れるまでの数\n",
    "_H = H\n",
    "count = 0\n",
    "while _H // 2 >= 1:\n",
    "    _H = _H // 2\n",
    "    count += 1\n",
    "\n",
    "ret = (count ** 2)\n",
    "\n",
    "8\n",
    "4 4\n",
    "2 2 2 2\n",
    "1 1 1 1 1 1 1 1\n",
    "\n"
   ]
  },
  {
   "cell_type": "code",
   "execution_count": null,
   "metadata": {},
   "outputs": [],
   "source": []
  }
 ],
 "metadata": {
  "kernelspec": {
   "display_name": "Python 3",
   "language": "python",
   "name": "python3"
  },
  "language_info": {
   "codemirror_mode": {
    "name": "ipython",
    "version": 3
   },
   "file_extension": ".py",
   "mimetype": "text/x-python",
   "name": "python",
   "nbconvert_exporter": "python",
   "pygments_lexer": "ipython3",
   "version": "3.8.6"
  }
 },
 "nbformat": 4,
 "nbformat_minor": 4
}
